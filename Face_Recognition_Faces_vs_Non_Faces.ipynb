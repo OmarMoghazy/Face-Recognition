{
  "nbformat": 4,
  "nbformat_minor": 0,
  "metadata": {
    "colab": {
      "name": "Face Recognition/Faces vs Non-Faces.ipynb",
      "provenance": [],
      "collapsed_sections": [],
      "include_colab_link": true
    },
    "kernelspec": {
      "display_name": "Python 3",
      "name": "python3"
    },
    "language_info": {
      "name": "python"
    }
  },
  "cells": [
    {
      "cell_type": "markdown",
      "metadata": {
        "id": "view-in-github",
        "colab_type": "text"
      },
      "source": [
        "<a href=\"https://colab.research.google.com/github/OmarMoghazy/LDA-Eigenfaces/blob/main/Face_Recognition_Faces_vs_Non_Faces.ipynb\" target=\"_parent\"><img src=\"https://colab.research.google.com/assets/colab-badge.svg\" alt=\"Open In Colab\"/></a>"
      ]
    },
    {
      "cell_type": "code",
      "metadata": {
        "id": "awK0JdABL6ke",
        "colab": {
          "base_uri": "https://localhost:8080/"
        },
        "outputId": "51924138-2630-407c-a96c-32ac4ddbd05a"
      },
      "source": [
        "import numpy as np\n",
        "from PIL import Image\n",
        "from google.colab import drive\n",
        "drive.mount('/content/gdrive')\n",
        "from sklearn.neighbors import KNeighborsClassifier\n",
        "from sklearn.preprocessing import StandardScaler\n",
        "from sklearn.metrics import classification_report, confusion_matrix, accuracy_score\n",
        "from sklearn.model_selection import train_test_split\n",
        "import matplotlib.pyplot as plt\n",
        "import seaborn as sns\n",
        "import pandas as pd"
      ],
      "execution_count": null,
      "outputs": [
        {
          "output_type": "stream",
          "text": [
            "Drive already mounted at /content/gdrive; to attempt to forcibly remount, call drive.mount(\"/content/gdrive\", force_remount=True).\n"
          ],
          "name": "stdout"
        }
      ]
    },
    {
      "cell_type": "markdown",
      "metadata": {
        "id": "yHVqFV4k608e"
      },
      "source": [
        "# Face Recognition"
      ]
    },
    {
      "cell_type": "markdown",
      "metadata": {
        "id": "e4ivd7_3wMBY"
      },
      "source": [
        "## Reading Data\n",
        "\n",
        "Dataset: https://www.kaggle.com/kasikrit/att-database-of-faces"
      ]
    },
    {
      "cell_type": "code",
      "metadata": {
        "id": "fBUcQphowOtv"
      },
      "source": [
        "label = []\n",
        "for i in range(1,41):\n",
        "    for j in range(1,11):\n",
        "        img = Image.open(\"/content/gdrive/My Drive/at&t db of faces/s\"+str(i) +\"/\"+ str(j) + '.pgm')\n",
        "        numpydata = np.asarray(img).flatten()\n",
        "        if i == 1 and j == 1:\n",
        "            data = numpydata\n",
        "        else:\n",
        "            data = np.vstack((data, numpydata))\n",
        "        label = np.hstack((label, i))"
      ],
      "execution_count": null,
      "outputs": []
    },
    {
      "cell_type": "markdown",
      "metadata": {
        "id": "eIuqv6utiqgC"
      },
      "source": [
        "## Scaling"
      ]
    },
    {
      "cell_type": "code",
      "metadata": {
        "id": "wC6PW8iZvKFd"
      },
      "source": [
        "scaler = StandardScaler()\n",
        "scaler.fit(data)\n",
        "data = scaler.transform(data)"
      ],
      "execution_count": null,
      "outputs": []
    },
    {
      "cell_type": "markdown",
      "metadata": {
        "id": "NIh-RdOWir-o"
      },
      "source": [
        "## Splitting Data Into Training Set and Testing Set"
      ]
    },
    {
      "cell_type": "code",
      "metadata": {
        "id": "Z-1tsAyKvD5C"
      },
      "source": [
        "# training, testing, training_labels, testing_labels = train_test_split(\n",
        "#  data, label, test_size=0.3, random_state=42)"
      ],
      "execution_count": null,
      "outputs": []
    },
    {
      "cell_type": "code",
      "metadata": {
        "id": "FW5NcAmzvZH2"
      },
      "source": [
        "training = data[1::2]\n",
        "testing = data[::2]\n",
        "\n",
        "training_labels = label[1::2]\n",
        "testing_labels = label[::2]"
      ],
      "execution_count": null,
      "outputs": []
    },
    {
      "cell_type": "markdown",
      "metadata": {
        "id": "h712jesr0iH4"
      },
      "source": [
        "## PCA"
      ]
    },
    {
      "cell_type": "markdown",
      "metadata": {
        "id": "zpkZohB33dj4"
      },
      "source": [
        "### Eigenpair calculations"
      ]
    },
    {
      "cell_type": "code",
      "metadata": {
        "id": "xHkokAnHz2e5"
      },
      "source": [
        "mean = np.mean(data, axis=0)\n",
        "Z = data - mean\n",
        "covariance = np.cov(Z.T, bias=True)\n",
        "eigenvalues, eigenvectors = np.linalg.eigh(covariance)\n",
        "idx = np.argsort(eigenvalues)[::-1]\n",
        "eigenvalues = eigenvalues[idx]\n",
        "eigenvectors = eigenvectors[:, idx]\n",
        "total_variance = np.sum(eigenvalues)"
      ],
      "execution_count": null,
      "outputs": []
    },
    {
      "cell_type": "markdown",
      "metadata": {
        "id": "zVV88eBf2nJ7"
      },
      "source": [
        "\n",
        "### Classification"
      ]
    },
    {
      "cell_type": "code",
      "metadata": {
        "id": "F_kYl4oa3-dU"
      },
      "source": [
        "def classify(training_scaled, testing_scaled, training_labels, testing_labels, neighbors = 1):\n",
        "  # scaler = StandardScaler()\n",
        "  # scaler.fit(projected_training_data)\n",
        "  # training_scaled = scaler.transform(projected_training_data)\n",
        "  # testing_scaled = scaler.transform(projected_testing_data)\n",
        "\n",
        "  classifier = KNeighborsClassifier(n_neighbors= neighbors)\n",
        "  classifier.fit(training_scaled, training_labels)\n",
        "\n",
        "  predictions = classifier.predict(testing_scaled)\n",
        "  # print(predictions)\n",
        "\n",
        "  # print(confusion_matrix(testing_labels, predictions))\n",
        "  # print(classification_report(testing_labels, predictions))\n",
        "  return (np.array(predictions), accuracy_score(testing_labels, predictions))"
      ],
      "execution_count": null,
      "outputs": []
    },
    {
      "cell_type": "markdown",
      "metadata": {
        "id": "bVrO4clV0rw1"
      },
      "source": [
        "### Projection Matrix"
      ]
    },
    {
      "cell_type": "code",
      "metadata": {
        "id": "_ZBkgTeOPAhl"
      },
      "source": [
        "def get_projection_matrix(eigenvalues, eigenvectors, alpha):\n",
        "    fr = 0\n",
        "    sum = 0\n",
        "    r = 0\n",
        "    total_variance = np.sum(eigenvalues)\n",
        "    while fr < alpha:\n",
        "        sum += eigenvalues[r]\n",
        "        fr = sum / total_variance\n",
        "        r = r+1\n",
        "    projection_matrix = eigenvectors[:,0:r]\n",
        "    return projection_matrix"
      ],
      "execution_count": null,
      "outputs": []
    },
    {
      "cell_type": "markdown",
      "metadata": {
        "id": "pZzYQ6Y254pP"
      },
      "source": [
        "### Classifying and Calculating Accuracy for Different Values of k and Alpha"
      ]
    },
    {
      "cell_type": "code",
      "metadata": {
        "id": "ouvKzvLq09Kg",
        "colab": {
          "base_uri": "https://localhost:8080/",
          "height": 330
        },
        "outputId": "8b3b5999-d22e-4ec1-99ee-4668a1da9156"
      },
      "source": [
        "alpha = [0.8, 0.85, 0.9, 0.95]\n",
        "neighbors = [1,3,5,7]\n",
        "score_temp = []\n",
        "\n",
        "for n in neighbors:\n",
        "  for a in alpha:\n",
        "    projection_matrix = get_projection_matrix(eigenvalues, eigenvectors, a)\n",
        "    Z_training = training - mean\n",
        "    Z_testing = testing - mean\n",
        "    projected_training_data = Z_training @ projection_matrix\n",
        "    projected_testing_data = Z_testing @ projection_matrix\n",
        "    pred, scr = classify(projected_training_data, projected_testing_data, training_labels, testing_labels, n)\n",
        "    score_temp = np.hstack((score_temp, scr))\n",
        "print(score_temp)\n",
        "for i in range(0, 4):\n",
        "  ax = sns.lineplot(x = neighbors, y = score_temp[i::4], legend='brief')\n",
        "ax.legend(['alpha = 0.8', 'alpha = 0.85', 'alpha = 0.9', 'alpha = 0.95'])\n",
        "ax.set(xlabel='Number of Neighbors', ylabel='Accuracy')"
      ],
      "execution_count": null,
      "outputs": [
        {
          "output_type": "stream",
          "text": [
            "[0.94  0.935 0.945 0.94  0.86  0.855 0.84  0.845 0.83  0.82  0.83  0.815\n",
            " 0.775 0.765 0.765 0.745]\n"
          ],
          "name": "stdout"
        },
        {
          "output_type": "execute_result",
          "data": {
            "text/plain": [
              "[Text(0, 0.5, 'Accuracy'), Text(0.5, 0, 'Number of Neighbors')]"
            ]
          },
          "metadata": {
            "tags": []
          },
          "execution_count": 9
        },
        {
          "output_type": "display_data",
          "data": {
            "image/png": "[encoded data removed]",
            "text/plain": [
              "<Figure size 432x288 with 1 Axes>"
            ]
          },
          "metadata": {
            "tags": [],
            "needs_background": "light"
          }
        }
      ]
    },
    {
      "cell_type": "markdown",
      "metadata": {
        "id": "TxJ7-hk96p1I"
      },
      "source": [
        "## LDA"
      ]
    },
    {
      "cell_type": "markdown",
      "metadata": {
        "id": "IXRzNjWz7eXX"
      },
      "source": [
        "### Class Means and Sb Matrix"
      ]
    },
    {
      "cell_type": "code",
      "metadata": {
        "id": "XLCbu_o0DHKN"
      },
      "source": [
        "scaler = StandardScaler()\n",
        "scaler.fit(data)\n",
        "data = scaler.transform(data)\n",
        "\n",
        "class_means = np.mean(data[0:10], axis = 0)\n",
        "for i in range(1,40):\n",
        "  class_means = np.vstack((class_means, np.mean(data[i*10:i*10+11], axis = 0)))\n",
        "\n",
        "mean = np.mean(data, axis=0)\n",
        "\n",
        "sb = 0\n",
        "nk = 10\n",
        "for i in range(0,40):\n",
        "  x = class_means[i] - mean\n",
        "  sb += 10 * np.outer(x,x.T) "
      ],
      "execution_count": null,
      "outputs": []
    },
    {
      "cell_type": "markdown",
      "metadata": {
        "id": "oK6A9n8s7m9N"
      },
      "source": [
        "### S Matrix"
      ]
    },
    {
      "cell_type": "code",
      "metadata": {
        "id": "pV5EjU5_FZA2"
      },
      "source": [
        "Z = data\n",
        "\n",
        "for i in range(40):\n",
        "  for j in range(10):\n",
        "    Z[j] = Z[j] - class_means[i]\n",
        "\n",
        "Z_training = Z[1::2]\n",
        "Z_testing = Z[::2]\n",
        "\n",
        "training_labels = label[1::2]\n",
        "testing_labels = label[::2]\n",
        "\n",
        "# Z_training, Z_testing, training_labels, testing_labels = train_test_split(\n",
        "#  Z, label, test_size=0.3, random_state=42)\n",
        "\n",
        "condition = (label == 1)\n",
        "S = Z[condition].T @ Z[condition]\n",
        "for i in range(2,41):\n",
        "  condition = (label == i)\n",
        "  S += Z[condition].T @ Z[condition]"
      ],
      "execution_count": null,
      "outputs": []
    },
    {
      "cell_type": "markdown",
      "metadata": {
        "id": "2w9LWeTF7sXh"
      },
      "source": [
        "### Eigenpair Calculations"
      ]
    },
    {
      "cell_type": "code",
      "metadata": {
        "id": "eAxmxCeRHZfo"
      },
      "source": [
        "S_inv = (np.linalg.inv(S))\n",
        "S_inv_Sb = S_inv @ sb\n",
        "\n",
        "eigenvalues_lda, eigenvectors_lda = np.linalg.eigh(S_inv_Sb)\n",
        "\n",
        "idx_lda = np.argsort(eigenvalues_lda)[::-1]\n",
        "eigenvalues_lda = eigenvalues_lda[idx_lda]\n",
        "eigenvectors_lda = eigenvectors_lda[:, idx_lda]"
      ],
      "execution_count": null,
      "outputs": []
    },
    {
      "cell_type": "markdown",
      "metadata": {
        "id": "jJRNZ4am7z4l"
      },
      "source": [
        "### Projection Matrix"
      ]
    },
    {
      "cell_type": "code",
      "metadata": {
        "id": "3BvEhKW4JTy1"
      },
      "source": [
        "eigenvectors_lda = eigenvectors_lda[:,0:39]\n",
        "# print(eigenvectors_lda.shape)"
      ],
      "execution_count": null,
      "outputs": []
    },
    {
      "cell_type": "code",
      "metadata": {
        "id": "fQf6nCP9LXtg"
      },
      "source": [
        "projected_training_data_lda = Z_training @ eigenvectors_lda\n",
        "# print(projected_training_data_lda.shape)"
      ],
      "execution_count": null,
      "outputs": []
    },
    {
      "cell_type": "code",
      "metadata": {
        "id": "-L2TTLa-LjCc"
      },
      "source": [
        "projected_testing_data_lda = Z_testing @ eigenvectors_lda\n",
        "# print(projected_testing_data_lda.shape)"
      ],
      "execution_count": null,
      "outputs": []
    },
    {
      "cell_type": "markdown",
      "metadata": {
        "id": "TWMSuPvQ75Ju"
      },
      "source": [
        "### Classifying and Calculating Accuracy for Different values of K"
      ]
    },
    {
      "cell_type": "code",
      "metadata": {
        "id": "ccNZKzdXUh0b",
        "colab": {
          "base_uri": "https://localhost:8080/",
          "height": 350
        },
        "outputId": "e49945c6-c403-41f3-f755-2f8b77a4cece"
      },
      "source": [
        "scores_lda = []\n",
        "neighbors = [1,3,5,7]\n",
        "for n in neighbors:\n",
        "  pred_lda, scr_lda = classify(projected_training_data_lda, projected_testing_data_lda, training_labels, testing_labels, n)\n",
        "  scores_lda = np.hstack((scores_lda, scr_lda))\n",
        "\n",
        "ax = sns.lineplot(neighbors, scores_lda)\n",
        "ax.set(xlabel='Number of Neighbors', ylabel='Accuracy')"
      ],
      "execution_count": null,
      "outputs": [
        {
          "output_type": "stream",
          "text": [
            "/usr/local/lib/python3.7/dist-packages/seaborn/_decorators.py:43: FutureWarning: Pass the following variables as keyword args: x, y. From version 0.12, the only valid positional argument will be `data`, and passing other arguments without an explicit keyword will result in an error or misinterpretation.\n",
            "  FutureWarning\n"
          ],
          "name": "stderr"
        },
        {
          "output_type": "execute_result",
          "data": {
            "text/plain": [
              "[Text(0, 0.5, 'Accuracy'), Text(0.5, 0, 'Number of Neighbors')]"
            ]
          },
          "metadata": {
            "tags": []
          },
          "execution_count": 16
        },
        {
          "output_type": "display_data",
          "data": {
            "image/png": "[encoded data removed]",
            "text/plain": [
              "<Figure size 432x288 with 1 Axes>"
            ]
          },
          "metadata": {
            "tags": [],
            "needs_background": "light"
          }
        }
      ]
    },
    {
      "cell_type": "markdown",
      "metadata": {
        "id": "jzUS2pW_8Fk-"
      },
      "source": [
        "# Faces vs Non-Faces"
      ]
    },
    {
      "cell_type": "markdown",
      "metadata": {
        "id": "K7aG7ian8Jd3"
      },
      "source": [
        "## Converting New Non-Face Images Into the Appropriate Format\n",
        "\n",
        "Dataset: https://www.kaggle.com/prasunroy/natural-images"
      ]
    },
    {
      "cell_type": "code",
      "metadata": {
        "id": "1iOx3DfOL1Ko"
      },
      "source": [
        "# for i in range(1, 321):\n",
        "#   img = Image.open(\"/content/gdrive/My Drive/non faces/nonface (\" + str(i) + \").jpg\")\n",
        "#   img = img.convert('L').resize((92,112))\n",
        "#   img.save('/content/gdrive/My Drive/not face/nonface_' + str(i) + '.pgm')"
      ],
      "execution_count": null,
      "outputs": []
    },
    {
      "cell_type": "markdown",
      "metadata": {
        "id": "1ztaGC678kVv"
      },
      "source": [
        "## Reading Data"
      ]
    },
    {
      "cell_type": "code",
      "metadata": {
        "id": "oCuCp13DH-kK"
      },
      "source": [
        "label_7 = np.ones((1,400))\n",
        "\n",
        "data_7 = data\n",
        "\n",
        "# change n up to 320\n",
        "n = 320\n",
        "for i in range(1, n + 1):\n",
        "  img = Image.open(\"/content/gdrive/My Drive/not face/nonface_\" + str(i) + \".pgm\")\n",
        "  numpydata = np.asarray(img).flatten()\n",
        "  data_7 = np.vstack((data_7, numpydata))\n",
        "\n",
        "label_7 = np.hstack((label_7, np.zeros((1,n))))"
      ],
      "execution_count": null,
      "outputs": []
    },
    {
      "cell_type": "markdown",
      "metadata": {
        "id": "Y2xya-Lzi86z"
      },
      "source": [
        "Scaling"
      ]
    },
    {
      "cell_type": "code",
      "metadata": {
        "id": "p8phU2vVi6it"
      },
      "source": [
        "scaler = StandardScaler()\n",
        "scaler.fit(data_7)\n",
        "data_7 = scaler.transform(data_7)"
      ],
      "execution_count": null,
      "outputs": []
    },
    {
      "cell_type": "markdown",
      "metadata": {
        "id": "0NOGjF63i_Wi"
      },
      "source": [
        "Splitting into testing set and training set"
      ]
    },
    {
      "cell_type": "code",
      "metadata": {
        "id": "FPtawzi_Xk1I"
      },
      "source": [
        "training_7 = data_7[1::2]\n",
        "testing_7 = data_7[::2]\n",
        "\n",
        "training_labels_7 = label_7[:,1::2]\n",
        "testing_labels_7 = label_7[:, ::2]\n",
        "\n",
        "# training_7, testing_7, training_labels_7, testing_labels_7 = train_test_split(\n",
        "#  data_7, label_7.T, test_size=0.3, random_state=42)"
      ],
      "execution_count": null,
      "outputs": []
    },
    {
      "cell_type": "markdown",
      "metadata": {
        "id": "za1I39Mj8m0I"
      },
      "source": [
        "## LDA"
      ]
    },
    {
      "cell_type": "markdown",
      "metadata": {
        "id": "n-Qq-yv48pgv"
      },
      "source": [
        "### Class Means and B Matrix"
      ]
    },
    {
      "cell_type": "code",
      "metadata": {
        "id": "fd-IUfjxNJ50"
      },
      "source": [
        "class_means_7 = np.vstack((np.mean(data_7[0:400], axis = 0), np.mean(data_7[400:], axis = 0)))"
      ],
      "execution_count": null,
      "outputs": []
    },
    {
      "cell_type": "code",
      "metadata": {
        "id": "R52i6ec1Nl9t"
      },
      "source": [
        "x_7 = class_means_7[0] - class_means_7[1]\n",
        "B_7 = np.outer(x_7, x_7.T)\n",
        "\n",
        "Z_7 = data_7[0:400] - class_means_7[0]\n",
        "Z_7 = np.vstack((Z_7, data_7[400:] - class_means_7[1]))\n",
        "\n",
        "Z_training_7 = Z_7[1::2]\n",
        "Z_testing_7 = Z_7[::2]"
      ],
      "execution_count": null,
      "outputs": []
    },
    {
      "cell_type": "markdown",
      "metadata": {
        "id": "aYa86fUs8ugE"
      },
      "source": [
        "### S Matrix"
      ]
    },
    {
      "cell_type": "code",
      "metadata": {
        "id": "RVu36hl3PxTF"
      },
      "source": [
        "S1_7 = Z_7[0:400].T @ Z_7[0:400]\n",
        "S2_7 = Z_7[400:].T @ Z_7[400:]\n",
        "\n",
        "S_7 = S1_7 + S2_7"
      ],
      "execution_count": null,
      "outputs": []
    },
    {
      "cell_type": "markdown",
      "metadata": {
        "id": "tKoEvDpk8xRH"
      },
      "source": [
        "### Eigenpair Calculations"
      ]
    },
    {
      "cell_type": "code",
      "metadata": {
        "id": "RDerzs3TugHL"
      },
      "source": [
        "S_inv_B_7 = np.linalg.inv(S_7) @ B_7"
      ],
      "execution_count": null,
      "outputs": []
    },
    {
      "cell_type": "code",
      "metadata": {
        "id": "m-H0d55Pk-yM"
      },
      "source": [
        "eigenvalues_7, eigenvectors_7 = np.linalg.eigh(S_inv_B_7)"
      ],
      "execution_count": null,
      "outputs": []
    },
    {
      "cell_type": "code",
      "metadata": {
        "id": "Tfu0YC8GAWZD"
      },
      "source": [
        "# for i in range(eigenvalues_7.size):\n",
        "  # if eigenvalues_7[i] < 0:\n",
        "  #   eigenvalues_7[i] = -1 * eigenvalues_7[i]\n",
        "\n",
        "idx_7 = np.argsort(eigenvalues_7)[::-1]\n",
        "eigenvalues_7 = eigenvalues_7[idx_7]\n",
        "eigenvectors_7 = eigenvectors_7[:, idx_7]"
      ],
      "execution_count": null,
      "outputs": []
    },
    {
      "cell_type": "markdown",
      "metadata": {
        "id": "WashyvHv828p"
      },
      "source": [
        "### Projection Matrix"
      ]
    },
    {
      "cell_type": "code",
      "metadata": {
        "id": "zPEWG9acQokB"
      },
      "source": [
        "proj_matrix_7 = eigenvectors_7[:,0:39]"
      ],
      "execution_count": null,
      "outputs": []
    },
    {
      "cell_type": "code",
      "metadata": {
        "id": "biXeO9AmiEKd"
      },
      "source": [
        "projected_training_data_7 = Z_training_7 @ proj_matrix_7\n",
        "projected_testing_data_7 = Z_testing_7 @ proj_matrix_7"
      ],
      "execution_count": null,
      "outputs": []
    },
    {
      "cell_type": "markdown",
      "metadata": {
        "id": "a2yTmh0IZjO4"
      },
      "source": [
        "### Classifying and Calculating Accuracy Scores for different values of K"
      ]
    },
    {
      "cell_type": "code",
      "metadata": {
        "id": "BWLMgEM0TRMH",
        "colab": {
          "base_uri": "https://localhost:8080/"
        },
        "outputId": "108475b1-93f3-403a-a223-3387a2487eb1"
      },
      "source": [
        "scores_7 = []\n",
        "pred_7, scr_7 = classify(projected_training_data_7, projected_testing_data_7, training_labels_7.T, testing_labels_7.T, 1)\n",
        "scores_7 = np.hstack((scores_7, scr_7))\n",
        "success = (pred_7 == testing_labels_7)\n",
        "df = pd.DataFrame({'Predictions': pred_7, 'Testing Labels': testing_labels_7[0], 'Success': success[0]})\n",
        "# with pd.option_context('display.max_rows', None, 'display.max_columns', None):\n",
        "#  print(df)\n",
        "df.to_excel('/content/gdrive/My Drive/Success Failure faces vs non faces/Success Rates ' + str(n) + ' non faces.xlsx')\n",
        "print(scores_7)"
      ],
      "execution_count": null,
      "outputs": [
        {
          "output_type": "stream",
          "text": [
            "/usr/local/lib/python3.7/dist-packages/ipykernel_launcher.py:8: DataConversionWarning: A column-vector y was passed when a 1d array was expected. Please change the shape of y to (n_samples, ), for example using ravel().\n",
            "  \n"
          ],
          "name": "stderr"
        },
        {
          "output_type": "stream",
          "text": [
            "[0.92222222]\n"
          ],
          "name": "stdout"
        }
      ]
    },
    {
      "cell_type": "code",
      "metadata": {
        "id": "95v51ooaC683",
        "colab": {
          "base_uri": "https://localhost:8080/",
          "height": 296
        },
        "outputId": "40bf84cf-b276-415c-9bd6-f4c36e1d950c"
      },
      "source": [
        "accuracy = [0.89, 0.85, 0.875, 0.92]\n",
        "number_of_nonfaces = [80, 160, 240, 320]\n",
        "\n",
        "ax = sns.lineplot(x=number_of_nonfaces, y=accuracy)\n",
        "ax.set(xlabel='Number of non-face images', ylabel='Accuracy')"
      ],
      "execution_count": null,
      "outputs": [
        {
          "output_type": "execute_result",
          "data": {
            "text/plain": [
              "[Text(0, 0.5, 'Accuracy'), Text(0.5, 0, 'Number of non-face images')]"
            ]
          },
          "metadata": {
            "tags": []
          },
          "execution_count": 29
        },
        {
          "output_type": "display_data",
          "data": {
            "image/png": "[encoded data removed]",
            "text/plain": [
              "<Figure size 432x288 with 1 Axes>"
            ]
          },
          "metadata": {
            "tags": [],
            "needs_background": "light"
          }
        }
      ]
    }
  ]
}